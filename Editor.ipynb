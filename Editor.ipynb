{
 "cells": [
  {
   "cell_type": "code",
   "execution_count": null,
   "metadata": {},
   "outputs": [],
   "source": [
    "import pptx\n",
    "from pptx.dml.color import RGBColor, MSO_COLOR_TYPE\n",
    "import pptx."
   ]
  },
  {
   "cell_type": "code",
   "execution_count": 80,
   "metadata": {},
   "outputs": [],
   "source": [
    "path = 'PolyProcTEST.pptx'\n",
    "prs = pptx.Presentation(path)\n"
   ]
  },
  {
   "cell_type": "code",
   "execution_count": null,
   "metadata": {},
   "outputs": [],
   "source": [
    "for slide in prs.slides:\n",
    "    for shape in slide.shapes:\n",
    "        if shape.has_text_frame:\n",
    "            for p in shape.text_frame.paragraphs:\n",
    "                for run in p.runs:\n",
    "                    color = run.font.color\n",
    "                    if color.type == MSO_COLOR_TYPE.RGB:\n",
    "                            if color.rgb == (255, 255, 0):\n",
    "                                color.rgb =RGBColor(0, 0, 255)\n",
    "                                print(color.rgb, run.text)\n",
    "\n"
   ]
  }
 ],
 "metadata": {
  "kernelspec": {
   "display_name": "Python 3",
   "language": "python",
   "name": "python3"
  },
  "language_info": {
   "codemirror_mode": {
    "name": "ipython",
    "version": 3
   },
   "file_extension": ".py",
   "mimetype": "text/x-python",
   "name": "python",
   "nbconvert_exporter": "python",
   "pygments_lexer": "ipython3",
   "version": "3.11.9"
  }
 },
 "nbformat": 4,
 "nbformat_minor": 2
}
