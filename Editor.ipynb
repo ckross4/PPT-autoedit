{
 "cells": [
  {
   "cell_type": "code",
   "execution_count": null,
   "metadata": {},
   "outputs": [],
   "source": [
    "import pptx\n",
    "from pptx.dml.color import RGBColor\n",
    "from pptx.dml.color import RGBColor, MSO_COLOR_TYPE\n",
    "from pptx.enum.shapes import MSO_SHAPE_TYPE\n",
    "\n",
    "path = 'YOUR_PPT'\n",
    "prs = pptx.Presentation(path+'.pptx')\n",
    "\n",
    "for slide in prs.slides:\n",
    "    for shape in slide.shapes:\n",
    "        if shape.shape_type == MSO_SHAPE_TYPE.GROUP:\n",
    "            for shape2 in shape.shapes:\n",
    "                if shape2.has_text_frame and shape2.text_frame.text != '':\n",
    "                    for p in shape2.text_frame.paragraphs:\n",
    "                        for run in p.runs:\n",
    "                            text = run.text\n",
    "                            color = run.font.color\n",
    "                            print(text, color.type)\n",
    "        if shape.has_text_frame and shape.text_frame.text != '':\n",
    "            for p in shape.text_frame.paragraphs:\n",
    "                for run in p.runs:\n",
    "                    text = run.text\n",
    "                    color = run.font.color\n",
    "                    print(text, color.type)\n",
    "# prs.save(path+'.pptx')"
   ]
  }
 ],
 "metadata": {
  "kernelspec": {
   "display_name": "Python 3",
   "language": "python",
   "name": "python3"
  },
  "language_info": {
   "codemirror_mode": {
    "name": "ipython",
    "version": 3
   },
   "file_extension": ".py",
   "mimetype": "text/x-python",
   "name": "python",
   "nbconvert_exporter": "python",
   "pygments_lexer": "ipython3",
   "version": "3.11.9"
  }
 },
 "nbformat": 4,
 "nbformat_minor": 2
}
